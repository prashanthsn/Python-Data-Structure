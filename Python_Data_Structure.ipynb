{
  "nbformat": 4,
  "nbformat_minor": 0,
  "metadata": {
    "colab": {
      "provenance": []
    },
    "kernelspec": {
      "name": "python3",
      "display_name": "Python 3"
    },
    "language_info": {
      "name": "python"
    }
  },
  "cells": [
    {
      "cell_type": "markdown",
      "source": [
        "1. What are data structures and why are they important?\n",
        "    - Data structures are organized ways to store, manage, and retrieve data effectively. Ex: arrays, linked lists, stacks, queues, trees, and graphs. It is important because it enables efficient data manipulation, storage, retrieval, and processing.\n",
        "\n",
        "\n",
        "2. Explain the difference between mutable and immutable data types with examples.\n",
        " - Mutable data types can be changed after their creation.\n",
        " Ex: lists (`my_list = [1, 2, 3]`) and dictionaries (`my_dict = {'key': 'value'}`).\n",
        "  - ImmItable data types cannot be changed once created.\n",
        "  Ex: strings (`my_string = \"hello\"`), tuples (`my_tuple = (1, 2, 3)`), and frozensets (`my_frozenset = frozenset([1, 2, 3])`).\n",
        "\n",
        "\n",
        "3. What are the main differences between lists and tuples in Python?\n",
        "  - Lists are mutable, meaning they can be modified after creation (`my_list = [1, 2, 3]`). They use square brackets.\n",
        "  - Tuples are immutable, meaning they cannot be modified after creation (`my_tuple = (1, 2, 3)`). They use parentheses.\n",
        "\n",
        "\n",
        "4. Describe how dictionaries store data.\n",
        "  - Dictionaries store data in key-value pairs. Each key is unique and maps to a corresponding value, allowing for fast data retrieval based on the key. For example: `my_dict = {'name': 'Ajay', 'age': 31}`.\n",
        "\n",
        "\n",
        "\n",
        "5. Why might you use a set instead of a list in Python?\n",
        "  - Sets are used when we need to store unique elements and perform operations like union, intersection, and difference efficiently. They are optimized for membership tests and lists allow duplicate elements.\n",
        "\n",
        "\n",
        "6. What is a string in Python, and how is it different from a list?\n",
        "  - String: It is a sequence of characters (`my_string = \"hello\"`). Unlike lists, strings are immutable, i.e. their content/ value cannot be changed once created.\n",
        "  - List: They mutable and can contain elements of different data types (`my_list = [1, 'a', 3.14]`).\n",
        "\n",
        "\n",
        "7. How do tuples ensure data integrity in Python?\n",
        "  - Tuples are immutable, so once they are created, their elements cannot be changed. This immutability ensures that the data remains consistent and unchanged, hence ensuring data integrity.\n",
        "\n",
        "\n",
        "8. What is a hash table, and does it relate to dictionaries in Python\n",
        "  - A hash table is a data structure that maps keys to values using a hash function. since dictionaries are implemented using hash tables, it is related.\n",
        "\n",
        "\n",
        "9. can lists contain different data types in Python?\n",
        "  - Yes, lists in Python can contain elements of different data types.\n",
        "  Ex: `my_list = [1, 'a', 3.14, [1, 2, 3]]`.\n",
        "\n",
        "\n",
        "10. explain why strings are immutable in Python.\n",
        "  - Strings are immutable to ensure data consistency and security, as they are often used as keys in dictionaries and require fixed hash values.\n",
        "\n",
        "11. What advantages do dictionaries offer over lists for certain tasks?\n",
        "tasks?\n",
        "  - Dictionaries provide fast lookups, insertions, and deletions based on keys. Lists are better suited for ordered collections and sequential data processing.\n",
        "\n",
        "\n",
        " 12. Describe a scenario where using a tuple would be preferable over a list.\n",
        "  - Tuples are preferable when you need to store a fixed collection of elements that should not change, such as coordinates of a point `(x, y)` or a record with a fixed structure.\n",
        "\n",
        "\n",
        "13. How do sets handle duplicate values in Python?\n",
        "  - Sets automatically remove duplicate values upon creation.\n",
        "  Ex: `my_set = set([1, 2, 2, 3])` will result in `my_set = {1, 2, 3]) will result in my_set = {1, 2, 3}.\n",
        "\n",
        "\n",
        "14. How does the \"in\" keyword work differently for lists and dictionaries?\n",
        "  - For lists, the \"in\" keyword checks if a value is present in the list (`value in my_list`).\n",
        "  - For dictionaries, it checks if a key is present in the dictionary (`key in my_dict`).\n",
        "\n",
        "\n",
        "15. can you modify the elements of a tuple? Explain why or why not.\n",
        "  - No, we cannot modify the elements of a tuple because tuples are immutable. Once created, their elements cannot be changed.\n",
        "\n",
        "\n",
        "16. What is a nested complexity of accessing elements in a dictionary?\n",
        "  - Accessing elements in a nested dictionary involves multiple lookups.\n",
        "  Ex: `data['key1']['key2']` requires two lookups, which adds complexity compared to a single-level dictionary.\n",
        "\n",
        "                                                                        \n",
        "17. Describe the time complexity of accessing elements in a dictionary.\n",
        "  \n",
        "                                                                       \n",
        "18. In what situations are lists preferred over dictionaries?\n",
        "  - Lists are preferred when you need to maintain the order of elements, perform sequential data processing, or store a collection of elements without unique keys.\n",
        "\n",
        "\n",
        "19. Why are dictionaries considered unordered, and how does that affect data retrieval\n",
        "  - Dictionaries are considered unordered because their elements are stored based on their hash values, not in the order they were added. so data retrieval is based on keys and not positional indexing."
      ],
      "metadata": {
        "id": "pYRHc-rc_Uvf"
      }
    },
    {
      "cell_type": "code",
      "source": [
        "# Write a code to create a string with your name and print it.\n",
        "a=\"Prashanth\"\n",
        "print(a)"
      ],
      "metadata": {
        "id": "Rq7oV3JwjfsC",
        "colab": {
          "base_uri": "https://localhost:8080/"
        },
        "outputId": "0d143b53-ee9b-455f-9fae-8ba714d57c16"
      },
      "execution_count": 1,
      "outputs": [
        {
          "output_type": "stream",
          "name": "stdout",
          "text": [
            "Prashanth\n"
          ]
        }
      ]
    },
    {
      "cell_type": "code",
      "source": [
        "# Write a code to find the length of the string \"Hello World\".\n",
        "a=\"Prashanth\"\n",
        "length=len(a)\n",
        "print(\"Length of string=\", length)"
      ],
      "metadata": {
        "id": "Wm1OB_7wjn64",
        "colab": {
          "base_uri": "https://localhost:8080/"
        },
        "outputId": "17d76efe-250b-4696-8c94-2fdd6af5831d"
      },
      "execution_count": 2,
      "outputs": [
        {
          "output_type": "stream",
          "name": "stdout",
          "text": [
            "Length of string= 9\n"
          ]
        }
      ]
    },
    {
      "cell_type": "code",
      "source": [
        "# Write a code to slice the first 3 characters from the string \"Python Programming\".\n",
        "a=\"Python Programming\"\n",
        "slice=a[:3]\n",
        "print(\"first 3 characters:\",slice)"
      ],
      "metadata": {
        "id": "g3E7ujWejwsb",
        "colab": {
          "base_uri": "https://localhost:8080/"
        },
        "outputId": "d2fb07de-9685-47de-805d-70495a977335"
      },
      "execution_count": 3,
      "outputs": [
        {
          "output_type": "stream",
          "name": "stdout",
          "text": [
            "first 3 characters: Pyt\n"
          ]
        }
      ]
    },
    {
      "cell_type": "code",
      "source": [
        "# Write a code to convert the string \"hello\" to uppercase.\n",
        "a=\"hello\"\n",
        "uppercase=a.upper()\n",
        "uppercase"
      ],
      "metadata": {
        "id": "ER2sf2-tj52t",
        "colab": {
          "base_uri": "https://localhost:8080/",
          "height": 36
        },
        "outputId": "1a70c55e-3d02-4bec-eca9-3628cf2f442c"
      },
      "execution_count": 5,
      "outputs": [
        {
          "output_type": "execute_result",
          "data": {
            "text/plain": [
              "'HELLO'"
            ],
            "application/vnd.google.colaboratory.intrinsic+json": {
              "type": "string"
            }
          },
          "metadata": {},
          "execution_count": 5
        }
      ]
    },
    {
      "cell_type": "code",
      "source": [
        "# Write a code to replace the word \"apple\" with \"orange\" in the string \"I like apple\".\n",
        "a=\"I like apple\"\n",
        "replace=a.replace(\"apple\",\"orange\")\n",
        "replace"
      ],
      "metadata": {
        "id": "joseibVakDN6",
        "colab": {
          "base_uri": "https://localhost:8080/",
          "height": 36
        },
        "outputId": "dc5fc2d9-1012-4627-bffc-57bca917ce94"
      },
      "execution_count": 6,
      "outputs": [
        {
          "output_type": "execute_result",
          "data": {
            "text/plain": [
              "'I like orange'"
            ],
            "application/vnd.google.colaboratory.intrinsic+json": {
              "type": "string"
            }
          },
          "metadata": {},
          "execution_count": 6
        }
      ]
    },
    {
      "cell_type": "code",
      "source": [
        "# Write a code to create a list with nmumbers 1 to 5 and print it.\n",
        "a=[1,2,3,4,5]\n",
        "print(\"My List:\",a)"
      ],
      "metadata": {
        "id": "1vNIMotrkMLN",
        "colab": {
          "base_uri": "https://localhost:8080/"
        },
        "outputId": "840ce8cf-0fa8-4f0d-f3c6-94e1dbb8d385"
      },
      "execution_count": 7,
      "outputs": [
        {
          "output_type": "stream",
          "name": "stdout",
          "text": [
            "My List: [1, 2, 3, 4, 5]\n"
          ]
        }
      ]
    },
    {
      "cell_type": "code",
      "source": [
        "# Write a code to append the number 10 to the list [1,2,3,4].\n",
        "a=[1,2,3,4]\n",
        "a.append(10)\n",
        "a"
      ],
      "metadata": {
        "id": "N2zDNVghkTRq",
        "colab": {
          "base_uri": "https://localhost:8080/"
        },
        "outputId": "050b3943-1508-486a-8977-dca08445f759"
      },
      "execution_count": 8,
      "outputs": [
        {
          "output_type": "execute_result",
          "data": {
            "text/plain": [
              "[1, 2, 3, 4, 10]"
            ]
          },
          "metadata": {},
          "execution_count": 8
        }
      ]
    },
    {
      "cell_type": "code",
      "source": [
        "# Write a code to remove the number 3 from the list [1,2,3,4,5].\n",
        "a=[1,2,3,4,5]\n",
        "a.remove(3)\n",
        "a"
      ],
      "metadata": {
        "id": "aDSZ0gFpkcpp",
        "colab": {
          "base_uri": "https://localhost:8080/"
        },
        "outputId": "dbcf2b99-0d13-4dec-b576-7a978f202bb0"
      },
      "execution_count": 9,
      "outputs": [
        {
          "output_type": "execute_result",
          "data": {
            "text/plain": [
              "[1, 2, 4, 5]"
            ]
          },
          "metadata": {},
          "execution_count": 9
        }
      ]
    },
    {
      "cell_type": "code",
      "source": [
        "# Write a code to access the second element in the list ['a', 'b', 'c'. 'd'].\n",
        "a=['a','b','c','d']\n",
        "second_ele=a[1]\n",
        "second_ele"
      ],
      "metadata": {
        "id": "0S81svD0kjao",
        "colab": {
          "base_uri": "https://localhost:8080/",
          "height": 36
        },
        "outputId": "35defda5-52b3-405b-a641-9dd26da2e96a"
      },
      "execution_count": 10,
      "outputs": [
        {
          "output_type": "execute_result",
          "data": {
            "text/plain": [
              "'b'"
            ],
            "application/vnd.google.colaboratory.intrinsic+json": {
              "type": "string"
            }
          },
          "metadata": {},
          "execution_count": 10
        }
      ]
    },
    {
      "cell_type": "code",
      "source": [
        "# Write a code to reverse the list [10,20.30,40,50].\n",
        "a=[10,20,30,40,50]\n",
        "a.reverse()\n",
        "a"
      ],
      "metadata": {
        "id": "yiaHNo8Vksg_",
        "colab": {
          "base_uri": "https://localhost:8080/"
        },
        "outputId": "78d5e9d5-04b4-4eb2-8a46-b58dcb909fb0"
      },
      "execution_count": 11,
      "outputs": [
        {
          "output_type": "execute_result",
          "data": {
            "text/plain": [
              "[50, 40, 30, 20, 10]"
            ]
          },
          "metadata": {},
          "execution_count": 11
        }
      ]
    },
    {
      "cell_type": "code",
      "source": [
        "# Write a code to create a tuple with the elements 10,20,30 and print it.\n",
        "a=(10,20,30)\n",
        "print(\"My Tuple:\",a)"
      ],
      "metadata": {
        "id": "F4vyYW5Ik4lZ",
        "colab": {
          "base_uri": "https://localhost:8080/"
        },
        "outputId": "7795b179-6cde-450a-e358-7e6df49d47de"
      },
      "execution_count": 12,
      "outputs": [
        {
          "output_type": "stream",
          "name": "stdout",
          "text": [
            "My Tuple: (10, 20, 30)\n"
          ]
        }
      ]
    },
    {
      "cell_type": "code",
      "source": [
        "# Write a code to access the first element of the tuple ('apple', 'banana', 'cherry').\n",
        "a=('apple', 'banana', 'cherry')\n",
        "first_ele=a[0]\n",
        "first_ele"
      ],
      "metadata": {
        "id": "evsukYAPlJUs",
        "colab": {
          "base_uri": "https://localhost:8080/",
          "height": 36
        },
        "outputId": "705045e1-6000-4782-d937-d56ea19a497e"
      },
      "execution_count": 13,
      "outputs": [
        {
          "output_type": "execute_result",
          "data": {
            "text/plain": [
              "'apple'"
            ],
            "application/vnd.google.colaboratory.intrinsic+json": {
              "type": "string"
            }
          },
          "metadata": {},
          "execution_count": 13
        }
      ]
    },
    {
      "cell_type": "code",
      "source": [
        "# Write a code to count how many times the number 2 appears in the tuple (1,2,3,2,4,2).\n",
        "a=(1,2,3,2,4,2)\n",
        "count=a.count(2)\n",
        "count"
      ],
      "metadata": {
        "id": "2RVhRCsdlUa0",
        "colab": {
          "base_uri": "https://localhost:8080/"
        },
        "outputId": "ed53a446-4b7a-403b-e3eb-6e7a1d9eb267"
      },
      "execution_count": 14,
      "outputs": [
        {
          "output_type": "execute_result",
          "data": {
            "text/plain": [
              "3"
            ]
          },
          "metadata": {},
          "execution_count": 14
        }
      ]
    },
    {
      "cell_type": "code",
      "source": [
        "# Write a code to find the index of the element \"cat\" in the tuple ('dog', 'cat','rabbit').\n",
        "a=('dog', 'cat','rabbit')\n",
        "index=a.index('cat') #dog=0, rabbit=2\n",
        "index"
      ],
      "metadata": {
        "id": "bth3jxhQld3y",
        "colab": {
          "base_uri": "https://localhost:8080/"
        },
        "outputId": "cfc728f8-9460-46a5-9eda-62b7f90371d0"
      },
      "execution_count": 15,
      "outputs": [
        {
          "output_type": "execute_result",
          "data": {
            "text/plain": [
              "1"
            ]
          },
          "metadata": {},
          "execution_count": 15
        }
      ]
    },
    {
      "cell_type": "code",
      "source": [
        "# Write a code to check if the element \"banana\" is in the tuple ('apple, 'orange', 'banana').\n",
        "a=('apple', 'orange', 'banana')\n",
        "check=\"banana\" in a\n",
        "check"
      ],
      "metadata": {
        "id": "cuezNTxkltIh",
        "colab": {
          "base_uri": "https://localhost:8080/"
        },
        "outputId": "aa7dad04-3f1d-4771-9850-b1bafdb0a43b"
      },
      "execution_count": 16,
      "outputs": [
        {
          "output_type": "execute_result",
          "data": {
            "text/plain": [
              "True"
            ]
          },
          "metadata": {},
          "execution_count": 16
        }
      ]
    },
    {
      "cell_type": "code",
      "source": [
        "# Write a code to create a set with the elements 1,2,3,4,5 and print it.\n",
        "a={1,2,3,4,5}\n",
        "print(\"My Set:\",a)"
      ],
      "metadata": {
        "id": "XkpaV-k4mVK5",
        "colab": {
          "base_uri": "https://localhost:8080/"
        },
        "outputId": "7b2247d8-149a-48c2-9113-ba4a656bed13"
      },
      "execution_count": 17,
      "outputs": [
        {
          "output_type": "stream",
          "name": "stdout",
          "text": [
            "My Set: {1, 2, 3, 4, 5}\n"
          ]
        }
      ]
    },
    {
      "cell_type": "code",
      "source": [
        "# Write a code to add the element 6 to the set {1,2,3,4}.\n",
        "a={1,2,3,4}\n",
        "a.add(6)\n",
        "a"
      ],
      "metadata": {
        "id": "fET6FYfzmalI",
        "colab": {
          "base_uri": "https://localhost:8080/"
        },
        "outputId": "ac513f20-ad98-4a77-a22c-867eca5ce467"
      },
      "execution_count": 18,
      "outputs": [
        {
          "output_type": "execute_result",
          "data": {
            "text/plain": [
              "{1, 2, 3, 4, 6}"
            ]
          },
          "metadata": {},
          "execution_count": 18
        }
      ]
    }
  ]
}